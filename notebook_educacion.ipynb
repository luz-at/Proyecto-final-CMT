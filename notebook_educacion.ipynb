{
 "cells": [
  {
   "cell_type": "markdown",
   "id": "0ebcd2b5",
   "metadata": {},
   "source": [
    "### **Proyecto final**"
   ]
  },
  {
   "cell_type": "code",
   "execution_count": 1,
   "id": "20b71959",
   "metadata": {},
   "outputs": [],
   "source": [
    "import pandas as pd\n",
    "\n",
    "df = pd.read_csv(\"dataset_educacion.csv\")"
   ]
  },
  {
   "cell_type": "markdown",
   "id": "6c965f31",
   "metadata": {},
   "source": [
    "### **Limpieza de datos**"
   ]
  },
  {
   "cell_type": "code",
   "execution_count": 2,
   "id": "55fae208",
   "metadata": {},
   "outputs": [
    {
     "data": {
      "application/vnd.microsoft.datawrangler.viewer.v0+json": {
       "columns": [
        {
         "name": "index",
         "rawType": "object",
         "type": "string"
        },
        {
         "name": "0",
         "rawType": "object",
         "type": "unknown"
        }
       ],
       "ref": "99c6223b-3ead-4f59-a344-b19d5981cf63",
       "rows": [
        [
         "AÑO",
         "int64"
        ],
        [
         "CÓDIGO_MUNICIPIO",
         "int64"
        ],
        [
         "MUNICIPIO",
         "object"
        ],
        [
         "CÓDIGO_DEPARTAMENTO",
         "int64"
        ],
        [
         "DEPARTAMENTO",
         "object"
        ],
        [
         "CÓDIGO_ETC",
         "float64"
        ],
        [
         "ETC",
         "object"
        ],
        [
         "POBLACIÓN_5_16",
         "object"
        ],
        [
         "TASA_MATRICULACIÓN_5_16",
         "float64"
        ],
        [
         "COBERTURA_NETA",
         "float64"
        ],
        [
         "COBERTURA_NETA_TRANSICIÓN",
         "float64"
        ],
        [
         "COBERTURA_NETA_PRIMARIA",
         "float64"
        ],
        [
         "COBERTURA_NETA_SECUNDARIA",
         "float64"
        ],
        [
         "COBERTURA_NETA_MEDIA",
         "float64"
        ],
        [
         "COBERTURA_BRUTA",
         "float64"
        ],
        [
         "COBERTURA_BRUTA_TRANSICIÓN",
         "float64"
        ],
        [
         "COBERTURA_BRUTA_PRIMARIA",
         "float64"
        ],
        [
         "COBERTURA_BRUTA_SECUNDARIA",
         "float64"
        ],
        [
         "COBERTURA_BRUTA_MEDIA",
         "float64"
        ],
        [
         "TAMAÑO_PROMEDIO_DE_GRUPO",
         "float64"
        ],
        [
         "SEDES_CONECTADAS_A_INTERNET",
         "float64"
        ],
        [
         "DESERCIÓN",
         "float64"
        ],
        [
         "DESERCIÓN_TRANSICIÓN",
         "float64"
        ],
        [
         "DESERCIÓN_PRIMARIA",
         "float64"
        ],
        [
         "DESERCIÓN_SECUNDARIA",
         "float64"
        ],
        [
         "DESERCIÓN_MEDIA",
         "float64"
        ],
        [
         "APROBACIÓN",
         "float64"
        ],
        [
         "APROBACIÓN_TRANSICIÓN",
         "float64"
        ],
        [
         "APROBACIÓN_PRIMARIA",
         "float64"
        ],
        [
         "APROBACIÓN_SECUNDARIA",
         "float64"
        ],
        [
         "APROBACIÓN_MEDIA",
         "float64"
        ],
        [
         "REPROBACIÓN",
         "float64"
        ],
        [
         "REPROBACIÓN_TRANSICIÓN",
         "float64"
        ],
        [
         "REPROBACIÓN_PRIMARIA",
         "float64"
        ],
        [
         "REPROBACIÓN_SECUNDARIA",
         "float64"
        ],
        [
         "REPROBACIÓN_MEDIA",
         "float64"
        ],
        [
         "REPITENCIA",
         "float64"
        ],
        [
         "REPITENCIA_TRANSICIÓN",
         "float64"
        ],
        [
         "REPITENCIA_PRIMARIA",
         "float64"
        ],
        [
         "REPITENCIA_SECUNDARIA",
         "float64"
        ],
        [
         "REPITENCIA_MEDIA",
         "float64"
        ]
       ],
       "shape": {
        "columns": 1,
        "rows": 41
       }
      },
      "text/plain": [
       "AÑO                              int64\n",
       "CÓDIGO_MUNICIPIO                 int64\n",
       "MUNICIPIO                       object\n",
       "CÓDIGO_DEPARTAMENTO              int64\n",
       "DEPARTAMENTO                    object\n",
       "CÓDIGO_ETC                     float64\n",
       "ETC                             object\n",
       "POBLACIÓN_5_16                  object\n",
       "TASA_MATRICULACIÓN_5_16        float64\n",
       "COBERTURA_NETA                 float64\n",
       "COBERTURA_NETA_TRANSICIÓN      float64\n",
       "COBERTURA_NETA_PRIMARIA        float64\n",
       "COBERTURA_NETA_SECUNDARIA      float64\n",
       "COBERTURA_NETA_MEDIA           float64\n",
       "COBERTURA_BRUTA                float64\n",
       "COBERTURA_BRUTA_TRANSICIÓN     float64\n",
       "COBERTURA_BRUTA_PRIMARIA       float64\n",
       "COBERTURA_BRUTA_SECUNDARIA     float64\n",
       "COBERTURA_BRUTA_MEDIA          float64\n",
       "TAMAÑO_PROMEDIO_DE_GRUPO       float64\n",
       "SEDES_CONECTADAS_A_INTERNET    float64\n",
       "DESERCIÓN                      float64\n",
       "DESERCIÓN_TRANSICIÓN           float64\n",
       "DESERCIÓN_PRIMARIA             float64\n",
       "DESERCIÓN_SECUNDARIA           float64\n",
       "DESERCIÓN_MEDIA                float64\n",
       "APROBACIÓN                     float64\n",
       "APROBACIÓN_TRANSICIÓN          float64\n",
       "APROBACIÓN_PRIMARIA            float64\n",
       "APROBACIÓN_SECUNDARIA          float64\n",
       "APROBACIÓN_MEDIA               float64\n",
       "REPROBACIÓN                    float64\n",
       "REPROBACIÓN_TRANSICIÓN         float64\n",
       "REPROBACIÓN_PRIMARIA           float64\n",
       "REPROBACIÓN_SECUNDARIA         float64\n",
       "REPROBACIÓN_MEDIA              float64\n",
       "REPITENCIA                     float64\n",
       "REPITENCIA_TRANSICIÓN          float64\n",
       "REPITENCIA_PRIMARIA            float64\n",
       "REPITENCIA_SECUNDARIA          float64\n",
       "REPITENCIA_MEDIA               float64\n",
       "dtype: object"
      ]
     },
     "execution_count": 2,
     "metadata": {},
     "output_type": "execute_result"
    }
   ],
   "source": [
    "# Verificar los tipos de datos\n",
    "\n",
    "df.dtypes"
   ]
  },
  {
   "cell_type": "markdown",
   "id": "52e496c9",
   "metadata": {},
   "source": [
    "La variable **POBLACIÓN_5_16** reprensenta datos cuantitativos, por lo cual se convierte su formato a numérico. "
   ]
  },
  {
   "cell_type": "code",
   "execution_count": 3,
   "id": "7e1d3bc4",
   "metadata": {},
   "outputs": [],
   "source": [
    "# Cambiar el tipo de dato\n",
    "\n",
    "df['POBLACIÓN_5_16'] = df['POBLACIÓN_5_16'].str.replace(',', '').astype(float)"
   ]
  },
  {
   "cell_type": "code",
   "execution_count": 4,
   "id": "4ac7348d",
   "metadata": {},
   "outputs": [
    {
     "data": {
      "application/vnd.microsoft.datawrangler.viewer.v0+json": {
       "columns": [
        {
         "name": "index",
         "rawType": "object",
         "type": "string"
        },
        {
         "name": "0",
         "rawType": "float64",
         "type": "float"
        }
       ],
       "ref": "ea34032e-ec38-4123-bbcd-03777328b387",
       "rows": [
        [
         "TAMAÑO_PROMEDIO_DE_GRUPO",
         "0.48"
        ],
        [
         "SEDES_CONECTADAS_A_INTERNET",
         "0.47"
        ],
        [
         "DESERCIÓN_TRANSICIÓN",
         "0.06"
        ],
        [
         "DESERCIÓN_MEDIA",
         "0.05"
        ],
        [
         "DESERCIÓN_SECUNDARIA",
         "0.02"
        ],
        [
         "DESERCIÓN_PRIMARIA",
         "0.02"
        ],
        [
         "COBERTURA_NETA_SECUNDARIA",
         "0.01"
        ],
        [
         "COBERTURA_NETA",
         "0.01"
        ],
        [
         "TASA_MATRICULACIÓN_5_16",
         "0.01"
        ],
        [
         "REPITENCIA_TRANSICIÓN",
         "0.01"
        ],
        [
         "REPITENCIA_PRIMARIA",
         "0.01"
        ],
        [
         "REPROBACIÓN",
         "0.01"
        ],
        [
         "APROBACIÓN_MEDIA",
         "0.01"
        ],
        [
         "REPROBACIÓN_TRANSICIÓN",
         "0.01"
        ],
        [
         "REPROBACIÓN_MEDIA",
         "0.01"
        ],
        [
         "REPROBACIÓN_SECUNDARIA",
         "0.01"
        ],
        [
         "REPROBACIÓN_PRIMARIA",
         "0.01"
        ],
        [
         "COBERTURA_NETA_MEDIA",
         "0.01"
        ],
        [
         "COBERTURA_BRUTA_MEDIA",
         "0.01"
        ],
        [
         "COBERTURA_BRUTA_TRANSICIÓN",
         "0.01"
        ],
        [
         "COBERTURA_BRUTA_PRIMARIA",
         "0.01"
        ],
        [
         "COBERTURA_BRUTA_SECUNDARIA",
         "0.01"
        ],
        [
         "DESERCIÓN",
         "0.01"
        ],
        [
         "APROBACIÓN_TRANSICIÓN",
         "0.01"
        ],
        [
         "COBERTURA_NETA_PRIMARIA",
         "0.01"
        ],
        [
         "REPITENCIA_MEDIA",
         "0.01"
        ],
        [
         "REPITENCIA",
         "0.01"
        ],
        [
         "REPITENCIA_SECUNDARIA",
         "0.01"
        ],
        [
         "DEPARTAMENTO",
         "0.0"
        ],
        [
         "MUNICIPIO",
         "0.0"
        ],
        [
         "CÓDIGO_DEPARTAMENTO",
         "0.0"
        ],
        [
         "CÓDIGO_MUNICIPIO",
         "0.0"
        ],
        [
         "AÑO",
         "0.0"
        ],
        [
         "POBLACIÓN_5_16",
         "0.0"
        ],
        [
         "ETC",
         "0.0"
        ],
        [
         "CÓDIGO_ETC",
         "0.0"
        ],
        [
         "COBERTURA_BRUTA",
         "0.0"
        ],
        [
         "COBERTURA_NETA_TRANSICIÓN",
         "0.0"
        ],
        [
         "APROBACIÓN_SECUNDARIA",
         "0.0"
        ],
        [
         "APROBACIÓN",
         "0.0"
        ],
        [
         "APROBACIÓN_PRIMARIA",
         "0.0"
        ]
       ],
       "shape": {
        "columns": 1,
        "rows": 41
       }
      },
      "text/plain": [
       "TAMAÑO_PROMEDIO_DE_GRUPO       0.48\n",
       "SEDES_CONECTADAS_A_INTERNET    0.47\n",
       "DESERCIÓN_TRANSICIÓN           0.06\n",
       "DESERCIÓN_MEDIA                0.05\n",
       "DESERCIÓN_SECUNDARIA           0.02\n",
       "DESERCIÓN_PRIMARIA             0.02\n",
       "COBERTURA_NETA_SECUNDARIA      0.01\n",
       "COBERTURA_NETA                 0.01\n",
       "TASA_MATRICULACIÓN_5_16        0.01\n",
       "REPITENCIA_TRANSICIÓN          0.01\n",
       "REPITENCIA_PRIMARIA            0.01\n",
       "REPROBACIÓN                    0.01\n",
       "APROBACIÓN_MEDIA               0.01\n",
       "REPROBACIÓN_TRANSICIÓN         0.01\n",
       "REPROBACIÓN_MEDIA              0.01\n",
       "REPROBACIÓN_SECUNDARIA         0.01\n",
       "REPROBACIÓN_PRIMARIA           0.01\n",
       "COBERTURA_NETA_MEDIA           0.01\n",
       "COBERTURA_BRUTA_MEDIA          0.01\n",
       "COBERTURA_BRUTA_TRANSICIÓN     0.01\n",
       "COBERTURA_BRUTA_PRIMARIA       0.01\n",
       "COBERTURA_BRUTA_SECUNDARIA     0.01\n",
       "DESERCIÓN                      0.01\n",
       "APROBACIÓN_TRANSICIÓN          0.01\n",
       "COBERTURA_NETA_PRIMARIA        0.01\n",
       "REPITENCIA_MEDIA               0.01\n",
       "REPITENCIA                     0.01\n",
       "REPITENCIA_SECUNDARIA          0.01\n",
       "DEPARTAMENTO                   0.00\n",
       "MUNICIPIO                      0.00\n",
       "CÓDIGO_DEPARTAMENTO            0.00\n",
       "CÓDIGO_MUNICIPIO               0.00\n",
       "AÑO                            0.00\n",
       "POBLACIÓN_5_16                 0.00\n",
       "ETC                            0.00\n",
       "CÓDIGO_ETC                     0.00\n",
       "COBERTURA_BRUTA                0.00\n",
       "COBERTURA_NETA_TRANSICIÓN      0.00\n",
       "APROBACIÓN_SECUNDARIA          0.00\n",
       "APROBACIÓN                     0.00\n",
       "APROBACIÓN_PRIMARIA            0.00\n",
       "dtype: float64"
      ]
     },
     "execution_count": 4,
     "metadata": {},
     "output_type": "execute_result"
    }
   ],
   "source": [
    "# Verificar la proporción de faltantes en el dataset\n",
    "\n",
    "porcentaje_nulos = round(df.isnull().sum() / len(df),2).sort_values(ascending=False)\n",
    "porcentaje_nulos"
   ]
  },
  {
   "cell_type": "markdown",
   "id": "01eef65c",
   "metadata": {},
   "source": [
    "Los registros faltantes de las columnas **TAMAÑO_PROMEDIO_DE_GRUPO** y **SEDES_CONECTADAS_A_INTERNET** representan casi el 50% del tamaño del dataset. Se determina eliminarlas, puesto que no hacen parte del objetivo planteado."
   ]
  },
  {
   "cell_type": "code",
   "execution_count": 5,
   "id": "c348c077",
   "metadata": {},
   "outputs": [],
   "source": [
    "# Eliminar columnas irrelevantes\n",
    "\n",
    "df = df.drop(['TAMAÑO_PROMEDIO_DE_GRUPO','SEDES_CONECTADAS_A_INTERNET'], axis = 1)"
   ]
  },
  {
   "cell_type": "code",
   "execution_count": 6,
   "id": "9f19a0af",
   "metadata": {},
   "outputs": [],
   "source": [
    "# Rellenar con la mediana valores faltantes en las columnas numéricas\n",
    "\n",
    "num_cols = df.select_dtypes(include='number').columns\n",
    "df[num_cols] = df[num_cols].fillna(df[num_cols].median())"
   ]
  },
  {
   "cell_type": "code",
   "execution_count": 7,
   "id": "b68ac963",
   "metadata": {},
   "outputs": [
    {
     "name": "stdout",
     "output_type": "stream",
     "text": [
      "Hay 0 valores faltantes en el dataset.\n"
     ]
    }
   ],
   "source": [
    "# Verificar nuevamente faltantes\n",
    "\n",
    "num_nulos = df.isnull().sum().sum()\n",
    "print(f\"Hay {num_nulos} valores faltantes en el dataset.\")"
   ]
  },
  {
   "cell_type": "code",
   "execution_count": 8,
   "id": "a5417c60",
   "metadata": {},
   "outputs": [
    {
     "data": {
      "text/plain": [
       "array(['Antioquia', 'Atlántico', 'Bogotá, D.C.', 'Bolívar', 'Boyacá',\n",
       "       'Caldas', 'Caquetá', 'Cauca', 'Cesar', 'Córdoba', 'Cundinamarca',\n",
       "       'Chocó', 'Huila', 'La Guajira', 'Magdalena', 'Meta', 'Nariño',\n",
       "       'Norte de Santander', 'Quindio', 'Risaralda', 'Santander', 'Sucre',\n",
       "       'Tolima', 'Valle del Cauca', 'Arauca', 'Casanare', 'Putumayo',\n",
       "       'Archipiélago de San Andrés, Providencia y Santa Catalina',\n",
       "       'Amazonas', 'Guainía', 'Guaviare', 'Vaupés', 'Vichada', 'NACIONAL',\n",
       "       'Bogotá D.C.',\n",
       "       'Archipiélago de San Andrés. Providencia y Santa Catalina'],\n",
       "      dtype=object)"
      ]
     },
     "execution_count": 8,
     "metadata": {},
     "output_type": "execute_result"
    }
   ],
   "source": [
    "# Verificar los valores únicos en la culumna 'DEPARTAMENTO'\n",
    "\n",
    "df['DEPARTAMENTO'].unique()"
   ]
  },
  {
   "cell_type": "code",
   "execution_count": 9,
   "id": "074bf47c",
   "metadata": {},
   "outputs": [],
   "source": [
    "# Estandarizar departamentos\n",
    "\n",
    "correcciones = {\n",
    "    'Bogotá, D.C.': 'Bogotá D.C.',\n",
    "    'Archipiélago de San Andrés, Providencia y Santa Catalina': 'Archipiélago de San Andrés. Providencia y Santa Catalina',\n",
    "}\n",
    "\n",
    "df['DEPARTAMENTO'] = df['DEPARTAMENTO'].replace(correcciones)"
   ]
  },
  {
   "cell_type": "code",
   "execution_count": 10,
   "id": "70e9d5fe",
   "metadata": {},
   "outputs": [],
   "source": [
    "# Eliminar filas donde 'DEPARTAMENTO' sea NACIONAL\n",
    "\n",
    "df = df[df['DEPARTAMENTO'] != 'NACIONAL']"
   ]
  },
  {
   "cell_type": "markdown",
   "id": "82fd4279",
   "metadata": {},
   "source": [
    "### Estadística descriptiva **(EDA)**"
   ]
  },
  {
   "cell_type": "code",
   "execution_count": 11,
   "id": "e7ee8c92",
   "metadata": {},
   "outputs": [],
   "source": [
    "import matplotlib.pyplot as plt"
   ]
  },
  {
   "cell_type": "code",
   "execution_count": 12,
   "id": "c00b8c8a",
   "metadata": {},
   "outputs": [
    {
     "data": {
      "application/vnd.microsoft.datawrangler.viewer.v0+json": {
       "columns": [
        {
         "name": "index",
         "rawType": "object",
         "type": "string"
        },
        {
         "name": "AÑO",
         "rawType": "float64",
         "type": "float"
        },
        {
         "name": "CÓDIGO_MUNICIPIO",
         "rawType": "float64",
         "type": "float"
        },
        {
         "name": "CÓDIGO_DEPARTAMENTO",
         "rawType": "float64",
         "type": "float"
        },
        {
         "name": "CÓDIGO_ETC",
         "rawType": "float64",
         "type": "float"
        },
        {
         "name": "POBLACIÓN_5_16",
         "rawType": "float64",
         "type": "float"
        },
        {
         "name": "TASA_MATRICULACIÓN_5_16",
         "rawType": "float64",
         "type": "float"
        },
        {
         "name": "COBERTURA_NETA",
         "rawType": "float64",
         "type": "float"
        },
        {
         "name": "COBERTURA_NETA_TRANSICIÓN",
         "rawType": "float64",
         "type": "float"
        },
        {
         "name": "COBERTURA_NETA_PRIMARIA",
         "rawType": "float64",
         "type": "float"
        },
        {
         "name": "COBERTURA_NETA_SECUNDARIA",
         "rawType": "float64",
         "type": "float"
        },
        {
         "name": "COBERTURA_NETA_MEDIA",
         "rawType": "float64",
         "type": "float"
        },
        {
         "name": "COBERTURA_BRUTA",
         "rawType": "float64",
         "type": "float"
        },
        {
         "name": "COBERTURA_BRUTA_TRANSICIÓN",
         "rawType": "float64",
         "type": "float"
        },
        {
         "name": "COBERTURA_BRUTA_PRIMARIA",
         "rawType": "float64",
         "type": "float"
        },
        {
         "name": "COBERTURA_BRUTA_SECUNDARIA",
         "rawType": "float64",
         "type": "float"
        },
        {
         "name": "COBERTURA_BRUTA_MEDIA",
         "rawType": "float64",
         "type": "float"
        },
        {
         "name": "DESERCIÓN",
         "rawType": "float64",
         "type": "float"
        },
        {
         "name": "DESERCIÓN_TRANSICIÓN",
         "rawType": "float64",
         "type": "float"
        },
        {
         "name": "DESERCIÓN_PRIMARIA",
         "rawType": "float64",
         "type": "float"
        },
        {
         "name": "DESERCIÓN_SECUNDARIA",
         "rawType": "float64",
         "type": "float"
        },
        {
         "name": "DESERCIÓN_MEDIA",
         "rawType": "float64",
         "type": "float"
        },
        {
         "name": "APROBACIÓN",
         "rawType": "float64",
         "type": "float"
        },
        {
         "name": "APROBACIÓN_TRANSICIÓN",
         "rawType": "float64",
         "type": "float"
        },
        {
         "name": "APROBACIÓN_PRIMARIA",
         "rawType": "float64",
         "type": "float"
        },
        {
         "name": "APROBACIÓN_SECUNDARIA",
         "rawType": "float64",
         "type": "float"
        },
        {
         "name": "APROBACIÓN_MEDIA",
         "rawType": "float64",
         "type": "float"
        },
        {
         "name": "REPROBACIÓN",
         "rawType": "float64",
         "type": "float"
        },
        {
         "name": "REPROBACIÓN_TRANSICIÓN",
         "rawType": "float64",
         "type": "float"
        },
        {
         "name": "REPROBACIÓN_PRIMARIA",
         "rawType": "float64",
         "type": "float"
        },
        {
         "name": "REPROBACIÓN_SECUNDARIA",
         "rawType": "float64",
         "type": "float"
        },
        {
         "name": "REPROBACIÓN_MEDIA",
         "rawType": "float64",
         "type": "float"
        },
        {
         "name": "REPITENCIA",
         "rawType": "float64",
         "type": "float"
        },
        {
         "name": "REPITENCIA_TRANSICIÓN",
         "rawType": "float64",
         "type": "float"
        },
        {
         "name": "REPITENCIA_PRIMARIA",
         "rawType": "float64",
         "type": "float"
        },
        {
         "name": "REPITENCIA_SECUNDARIA",
         "rawType": "float64",
         "type": "float"
        },
        {
         "name": "REPITENCIA_MEDIA",
         "rawType": "float64",
         "type": "float"
        }
       ],
       "ref": "6c8099ae-dd48-42d5-a857-ad8e9145cf81",
       "rows": [
        [
         "count",
         "14582.0",
         "14582.0",
         "14582.0",
         "14582.0",
         "14582.0",
         "14582.0",
         "14582.0",
         "14582.0",
         "14582.0",
         "14582.0",
         "14582.0",
         "14582.0",
         "14582.0",
         "14582.0",
         "14582.0",
         "14582.0",
         "14582.0",
         "14582.0",
         "14582.0",
         "14582.0",
         "14582.0",
         "14582.0",
         "14582.0",
         "14582.0",
         "14582.0",
         "14582.0",
         "14582.0",
         "14582.0",
         "14582.0",
         "14582.0",
         "14582.0",
         "14582.0",
         "14582.0",
         "14582.0",
         "14582.0",
         "14582.0"
        ],
        [
         "mean",
         "2016.9987656014264",
         "38701.06412014813",
         "38.26724729118091",
         "3541.73185728981",
         "8302.304562817171",
         "84.99204498697024",
         "85.57705321629406",
         "57.70485735838705",
         "82.58517830201617",
         "69.92618433685365",
         "40.75792861061583",
         "97.57921204224385",
         "87.13526608147032",
         "105.0939672198601",
         "101.13513029762721",
         "75.86593745713894",
         "3.4871217939925936",
         "3.4573391852969415",
         "2.7499753120285284",
         "4.5688849266218625",
         "3.4354937594294332",
         "91.62744753806062",
         "0.4838033191606089",
         "93.23358112741737",
         "88.37947812371416",
         "92.16722740364834",
         "4.756870113838979",
         "0.4838033191606089",
         "3.881868056508023",
         "6.805668632560692",
         "4.121398299273076",
         "3.288975449183925",
         "0.933135372376903",
         "3.1570607598408995",
         "4.310827732821286",
         "1.6903428884926623"
        ],
        [
         "std",
         "3.7415105449173294",
         "26551.444570728592",
         "26.564947253047233",
         "1125.6003607240475",
         "45560.709473864576",
         "18.478310311818834",
         "16.82593567508005",
         "16.150645950398903",
         "17.11155084995708",
         "18.74604289578196",
         "15.570019049243072",
         "21.208523538849175",
         "25.453831354902633",
         "25.17477619354455",
         "25.708737629747997",
         "26.85620233509546",
         "2.1619107131588327",
         "2.6887749650590274",
         "2.0313109649709573",
         "3.07455558005966",
         "3.190181081370487",
         "5.162328224736253",
         "1.6486292242049567",
         "5.041246807155487",
         "7.858354779998896",
         "6.867764222776644",
         "3.987597036431444",
         "1.6486292242049567",
         "3.790050734479607",
         "6.131180664536477",
         "4.1920511976664745",
         "3.355108863017324",
         "2.404130604772085",
         "3.6279708213615263",
         "4.527894489753468",
         "2.274740764259195"
        ],
        [
         "min",
         "2011.0",
         "5001.0",
         "5.0",
         "3.758",
         "1.0",
         "0.0",
         "0.0",
         "0.0",
         "0.0",
         "0.0",
         "0.0",
         "0.0",
         "0.0",
         "0.0",
         "0.0",
         "0.0",
         "0.0",
         "0.0",
         "0.0",
         "0.0",
         "0.0",
         "0.0",
         "0.0",
         "0.0",
         "0.0",
         "0.0",
         "0.0",
         "0.0",
         "0.0",
         "0.0",
         "0.0",
         "0.0",
         "0.0",
         "0.0",
         "0.0",
         "0.0"
        ],
        [
         "25%",
         "2014.0",
         "15676.0",
         "15.0",
         "3769.0",
         "1165.0",
         "74.95",
         "76.96249999999999",
         "47.59",
         "73.31",
         "60.5",
         "31.192500000000003",
         "85.73",
         "71.56",
         "89.91",
         "86.6425",
         "59.76",
         "1.95",
         "1.63",
         "1.28",
         "2.38",
         "1.69",
         "88.45",
         "0.0",
         "90.58",
         "83.66",
         "89.47",
         "0.95",
         "0.0",
         "0.43",
         "0.7625",
         "0.6825",
         "0.73",
         "0.0",
         "0.6",
         "0.75",
         "0.0"
        ],
        [
         "50%",
         "2017.0",
         "25839.0",
         "25.0",
         "3785.0",
         "2641.0",
         "85.33",
         "86.4",
         "57.9",
         "82.83",
         "70.9",
         "41.165",
         "97.5",
         "85.21",
         "103.32",
         "101.54",
         "75.25",
         "3.13",
         "3.0",
         "2.32",
         "4.04",
         "2.84",
         "92.02",
         "0.0",
         "93.87",
         "89.1",
         "93.29",
         "4.52",
         "0.0",
         "3.33",
         "6.16",
         "3.1",
         "2.16",
         "0.0",
         "1.88",
         "2.74",
         "0.87"
        ],
        [
         "75%",
         "2020.0",
         "66572.0",
         "66.0",
         "3805.0",
         "5862.75",
         "95.3075",
         "94.4775",
         "68.0",
         "91.8675",
         "80.5",
         "50.5",
         "109.19",
         "100.0",
         "117.6",
         "115.63",
         "90.24",
         "4.64",
         "4.71",
         "3.75",
         "6.15",
         "4.4",
         "95.58",
         "0.21",
         "96.94",
         "94.44",
         "96.41",
         "7.3975",
         "0.21",
         "5.98",
         "10.79",
         "6.36",
         "5.047499999999999",
         "0.92",
         "4.55",
         "6.77",
         "2.53"
        ],
        [
         "max",
         "2023.0",
         "99773.0",
         "99.0",
         "10930.0",
         "1479334.0",
         "279.03",
         "264.54",
         "150.47",
         "254.96",
         "229.44",
         "170.26",
         "286.92",
         "259.29",
         "326.4",
         "301.71",
         "489.62",
         "27.9",
         "42.86",
         "18.31",
         "47.14",
         "62.5",
         "100.0",
         "52.71",
         "100.0",
         "100.0",
         "100.0",
         "49.39",
         "52.71",
         "51.97",
         "76.97",
         "67.86",
         "37.47",
         "50.0",
         "50.76",
         "55.07",
         "36.45"
        ]
       ],
       "shape": {
        "columns": 36,
        "rows": 8
       }
      },
      "text/html": [
       "<div>\n",
       "<style scoped>\n",
       "    .dataframe tbody tr th:only-of-type {\n",
       "        vertical-align: middle;\n",
       "    }\n",
       "\n",
       "    .dataframe tbody tr th {\n",
       "        vertical-align: top;\n",
       "    }\n",
       "\n",
       "    .dataframe thead th {\n",
       "        text-align: right;\n",
       "    }\n",
       "</style>\n",
       "<table border=\"1\" class=\"dataframe\">\n",
       "  <thead>\n",
       "    <tr style=\"text-align: right;\">\n",
       "      <th></th>\n",
       "      <th>AÑO</th>\n",
       "      <th>CÓDIGO_MUNICIPIO</th>\n",
       "      <th>CÓDIGO_DEPARTAMENTO</th>\n",
       "      <th>CÓDIGO_ETC</th>\n",
       "      <th>POBLACIÓN_5_16</th>\n",
       "      <th>TASA_MATRICULACIÓN_5_16</th>\n",
       "      <th>COBERTURA_NETA</th>\n",
       "      <th>COBERTURA_NETA_TRANSICIÓN</th>\n",
       "      <th>COBERTURA_NETA_PRIMARIA</th>\n",
       "      <th>COBERTURA_NETA_SECUNDARIA</th>\n",
       "      <th>...</th>\n",
       "      <th>REPROBACIÓN</th>\n",
       "      <th>REPROBACIÓN_TRANSICIÓN</th>\n",
       "      <th>REPROBACIÓN_PRIMARIA</th>\n",
       "      <th>REPROBACIÓN_SECUNDARIA</th>\n",
       "      <th>REPROBACIÓN_MEDIA</th>\n",
       "      <th>REPITENCIA</th>\n",
       "      <th>REPITENCIA_TRANSICIÓN</th>\n",
       "      <th>REPITENCIA_PRIMARIA</th>\n",
       "      <th>REPITENCIA_SECUNDARIA</th>\n",
       "      <th>REPITENCIA_MEDIA</th>\n",
       "    </tr>\n",
       "  </thead>\n",
       "  <tbody>\n",
       "    <tr>\n",
       "      <th>count</th>\n",
       "      <td>14582.000000</td>\n",
       "      <td>14582.000000</td>\n",
       "      <td>14582.000000</td>\n",
       "      <td>14582.000000</td>\n",
       "      <td>1.458200e+04</td>\n",
       "      <td>14582.000000</td>\n",
       "      <td>14582.000000</td>\n",
       "      <td>14582.000000</td>\n",
       "      <td>14582.000000</td>\n",
       "      <td>14582.000000</td>\n",
       "      <td>...</td>\n",
       "      <td>14582.000000</td>\n",
       "      <td>14582.000000</td>\n",
       "      <td>14582.000000</td>\n",
       "      <td>14582.000000</td>\n",
       "      <td>14582.000000</td>\n",
       "      <td>14582.000000</td>\n",
       "      <td>14582.000000</td>\n",
       "      <td>14582.000000</td>\n",
       "      <td>14582.000000</td>\n",
       "      <td>14582.000000</td>\n",
       "    </tr>\n",
       "    <tr>\n",
       "      <th>mean</th>\n",
       "      <td>2016.998766</td>\n",
       "      <td>38701.064120</td>\n",
       "      <td>38.267247</td>\n",
       "      <td>3541.731857</td>\n",
       "      <td>8.302305e+03</td>\n",
       "      <td>84.992045</td>\n",
       "      <td>85.577053</td>\n",
       "      <td>57.704857</td>\n",
       "      <td>82.585178</td>\n",
       "      <td>69.926184</td>\n",
       "      <td>...</td>\n",
       "      <td>4.756870</td>\n",
       "      <td>0.483803</td>\n",
       "      <td>3.881868</td>\n",
       "      <td>6.805669</td>\n",
       "      <td>4.121398</td>\n",
       "      <td>3.288975</td>\n",
       "      <td>0.933135</td>\n",
       "      <td>3.157061</td>\n",
       "      <td>4.310828</td>\n",
       "      <td>1.690343</td>\n",
       "    </tr>\n",
       "    <tr>\n",
       "      <th>std</th>\n",
       "      <td>3.741511</td>\n",
       "      <td>26551.444571</td>\n",
       "      <td>26.564947</td>\n",
       "      <td>1125.600361</td>\n",
       "      <td>4.556071e+04</td>\n",
       "      <td>18.478310</td>\n",
       "      <td>16.825936</td>\n",
       "      <td>16.150646</td>\n",
       "      <td>17.111551</td>\n",
       "      <td>18.746043</td>\n",
       "      <td>...</td>\n",
       "      <td>3.987597</td>\n",
       "      <td>1.648629</td>\n",
       "      <td>3.790051</td>\n",
       "      <td>6.131181</td>\n",
       "      <td>4.192051</td>\n",
       "      <td>3.355109</td>\n",
       "      <td>2.404131</td>\n",
       "      <td>3.627971</td>\n",
       "      <td>4.527894</td>\n",
       "      <td>2.274741</td>\n",
       "    </tr>\n",
       "    <tr>\n",
       "      <th>min</th>\n",
       "      <td>2011.000000</td>\n",
       "      <td>5001.000000</td>\n",
       "      <td>5.000000</td>\n",
       "      <td>3.758000</td>\n",
       "      <td>1.000000e+00</td>\n",
       "      <td>0.000000</td>\n",
       "      <td>0.000000</td>\n",
       "      <td>0.000000</td>\n",
       "      <td>0.000000</td>\n",
       "      <td>0.000000</td>\n",
       "      <td>...</td>\n",
       "      <td>0.000000</td>\n",
       "      <td>0.000000</td>\n",
       "      <td>0.000000</td>\n",
       "      <td>0.000000</td>\n",
       "      <td>0.000000</td>\n",
       "      <td>0.000000</td>\n",
       "      <td>0.000000</td>\n",
       "      <td>0.000000</td>\n",
       "      <td>0.000000</td>\n",
       "      <td>0.000000</td>\n",
       "    </tr>\n",
       "    <tr>\n",
       "      <th>25%</th>\n",
       "      <td>2014.000000</td>\n",
       "      <td>15676.000000</td>\n",
       "      <td>15.000000</td>\n",
       "      <td>3769.000000</td>\n",
       "      <td>1.165000e+03</td>\n",
       "      <td>74.950000</td>\n",
       "      <td>76.962500</td>\n",
       "      <td>47.590000</td>\n",
       "      <td>73.310000</td>\n",
       "      <td>60.500000</td>\n",
       "      <td>...</td>\n",
       "      <td>0.950000</td>\n",
       "      <td>0.000000</td>\n",
       "      <td>0.430000</td>\n",
       "      <td>0.762500</td>\n",
       "      <td>0.682500</td>\n",
       "      <td>0.730000</td>\n",
       "      <td>0.000000</td>\n",
       "      <td>0.600000</td>\n",
       "      <td>0.750000</td>\n",
       "      <td>0.000000</td>\n",
       "    </tr>\n",
       "    <tr>\n",
       "      <th>50%</th>\n",
       "      <td>2017.000000</td>\n",
       "      <td>25839.000000</td>\n",
       "      <td>25.000000</td>\n",
       "      <td>3785.000000</td>\n",
       "      <td>2.641000e+03</td>\n",
       "      <td>85.330000</td>\n",
       "      <td>86.400000</td>\n",
       "      <td>57.900000</td>\n",
       "      <td>82.830000</td>\n",
       "      <td>70.900000</td>\n",
       "      <td>...</td>\n",
       "      <td>4.520000</td>\n",
       "      <td>0.000000</td>\n",
       "      <td>3.330000</td>\n",
       "      <td>6.160000</td>\n",
       "      <td>3.100000</td>\n",
       "      <td>2.160000</td>\n",
       "      <td>0.000000</td>\n",
       "      <td>1.880000</td>\n",
       "      <td>2.740000</td>\n",
       "      <td>0.870000</td>\n",
       "    </tr>\n",
       "    <tr>\n",
       "      <th>75%</th>\n",
       "      <td>2020.000000</td>\n",
       "      <td>66572.000000</td>\n",
       "      <td>66.000000</td>\n",
       "      <td>3805.000000</td>\n",
       "      <td>5.862750e+03</td>\n",
       "      <td>95.307500</td>\n",
       "      <td>94.477500</td>\n",
       "      <td>68.000000</td>\n",
       "      <td>91.867500</td>\n",
       "      <td>80.500000</td>\n",
       "      <td>...</td>\n",
       "      <td>7.397500</td>\n",
       "      <td>0.210000</td>\n",
       "      <td>5.980000</td>\n",
       "      <td>10.790000</td>\n",
       "      <td>6.360000</td>\n",
       "      <td>5.047500</td>\n",
       "      <td>0.920000</td>\n",
       "      <td>4.550000</td>\n",
       "      <td>6.770000</td>\n",
       "      <td>2.530000</td>\n",
       "    </tr>\n",
       "    <tr>\n",
       "      <th>max</th>\n",
       "      <td>2023.000000</td>\n",
       "      <td>99773.000000</td>\n",
       "      <td>99.000000</td>\n",
       "      <td>10930.000000</td>\n",
       "      <td>1.479334e+06</td>\n",
       "      <td>279.030000</td>\n",
       "      <td>264.540000</td>\n",
       "      <td>150.470000</td>\n",
       "      <td>254.960000</td>\n",
       "      <td>229.440000</td>\n",
       "      <td>...</td>\n",
       "      <td>49.390000</td>\n",
       "      <td>52.710000</td>\n",
       "      <td>51.970000</td>\n",
       "      <td>76.970000</td>\n",
       "      <td>67.860000</td>\n",
       "      <td>37.470000</td>\n",
       "      <td>50.000000</td>\n",
       "      <td>50.760000</td>\n",
       "      <td>55.070000</td>\n",
       "      <td>36.450000</td>\n",
       "    </tr>\n",
       "  </tbody>\n",
       "</table>\n",
       "<p>8 rows × 36 columns</p>\n",
       "</div>"
      ],
      "text/plain": [
       "                AÑO  CÓDIGO_MUNICIPIO  CÓDIGO_DEPARTAMENTO    CÓDIGO_ETC  \\\n",
       "count  14582.000000      14582.000000         14582.000000  14582.000000   \n",
       "mean    2016.998766      38701.064120            38.267247   3541.731857   \n",
       "std        3.741511      26551.444571            26.564947   1125.600361   \n",
       "min     2011.000000       5001.000000             5.000000      3.758000   \n",
       "25%     2014.000000      15676.000000            15.000000   3769.000000   \n",
       "50%     2017.000000      25839.000000            25.000000   3785.000000   \n",
       "75%     2020.000000      66572.000000            66.000000   3805.000000   \n",
       "max     2023.000000      99773.000000            99.000000  10930.000000   \n",
       "\n",
       "       POBLACIÓN_5_16  TASA_MATRICULACIÓN_5_16  COBERTURA_NETA  \\\n",
       "count    1.458200e+04             14582.000000    14582.000000   \n",
       "mean     8.302305e+03                84.992045       85.577053   \n",
       "std      4.556071e+04                18.478310       16.825936   \n",
       "min      1.000000e+00                 0.000000        0.000000   \n",
       "25%      1.165000e+03                74.950000       76.962500   \n",
       "50%      2.641000e+03                85.330000       86.400000   \n",
       "75%      5.862750e+03                95.307500       94.477500   \n",
       "max      1.479334e+06               279.030000      264.540000   \n",
       "\n",
       "       COBERTURA_NETA_TRANSICIÓN  COBERTURA_NETA_PRIMARIA  \\\n",
       "count               14582.000000             14582.000000   \n",
       "mean                   57.704857                82.585178   \n",
       "std                    16.150646                17.111551   \n",
       "min                     0.000000                 0.000000   \n",
       "25%                    47.590000                73.310000   \n",
       "50%                    57.900000                82.830000   \n",
       "75%                    68.000000                91.867500   \n",
       "max                   150.470000               254.960000   \n",
       "\n",
       "       COBERTURA_NETA_SECUNDARIA  ...   REPROBACIÓN  REPROBACIÓN_TRANSICIÓN  \\\n",
       "count               14582.000000  ...  14582.000000            14582.000000   \n",
       "mean                   69.926184  ...      4.756870                0.483803   \n",
       "std                    18.746043  ...      3.987597                1.648629   \n",
       "min                     0.000000  ...      0.000000                0.000000   \n",
       "25%                    60.500000  ...      0.950000                0.000000   \n",
       "50%                    70.900000  ...      4.520000                0.000000   \n",
       "75%                    80.500000  ...      7.397500                0.210000   \n",
       "max                   229.440000  ...     49.390000               52.710000   \n",
       "\n",
       "       REPROBACIÓN_PRIMARIA  REPROBACIÓN_SECUNDARIA  REPROBACIÓN_MEDIA  \\\n",
       "count          14582.000000            14582.000000       14582.000000   \n",
       "mean               3.881868                6.805669           4.121398   \n",
       "std                3.790051                6.131181           4.192051   \n",
       "min                0.000000                0.000000           0.000000   \n",
       "25%                0.430000                0.762500           0.682500   \n",
       "50%                3.330000                6.160000           3.100000   \n",
       "75%                5.980000               10.790000           6.360000   \n",
       "max               51.970000               76.970000          67.860000   \n",
       "\n",
       "         REPITENCIA  REPITENCIA_TRANSICIÓN  REPITENCIA_PRIMARIA  \\\n",
       "count  14582.000000           14582.000000         14582.000000   \n",
       "mean       3.288975               0.933135             3.157061   \n",
       "std        3.355109               2.404131             3.627971   \n",
       "min        0.000000               0.000000             0.000000   \n",
       "25%        0.730000               0.000000             0.600000   \n",
       "50%        2.160000               0.000000             1.880000   \n",
       "75%        5.047500               0.920000             4.550000   \n",
       "max       37.470000              50.000000            50.760000   \n",
       "\n",
       "       REPITENCIA_SECUNDARIA  REPITENCIA_MEDIA  \n",
       "count           14582.000000      14582.000000  \n",
       "mean                4.310828          1.690343  \n",
       "std                 4.527894          2.274741  \n",
       "min                 0.000000          0.000000  \n",
       "25%                 0.750000          0.000000  \n",
       "50%                 2.740000          0.870000  \n",
       "75%                 6.770000          2.530000  \n",
       "max                55.070000         36.450000  \n",
       "\n",
       "[8 rows x 36 columns]"
      ]
     },
     "execution_count": 12,
     "metadata": {},
     "output_type": "execute_result"
    }
   ],
   "source": [
    "# Analizar estadísticas básicas\n",
    "\n",
    "df.describe()"
   ]
  },
  {
   "cell_type": "markdown",
   "id": "27b47b61",
   "metadata": {},
   "source": [
    "Se hace uso del método `describe()` para obtener una visión rápida de la presencia de outliers en el conjunto de datos. Se observa que, la diferencia entre el mínimo y el máximo, y entre la media y el valor máximo sugieren la presencia de datos atípicos."
   ]
  },
  {
   "cell_type": "code",
   "execution_count": 13,
   "id": "5b832e64",
   "metadata": {},
   "outputs": [
    {
     "data": {
      "image/png": "[encoded data removed]",
      "text/plain": [
       "<Figure size 2000x1000 with 36 Axes>"
      ]
     },
     "metadata": {},
     "output_type": "display_data"
    }
   ],
   "source": [
    "# Identificar patrones en los datos para detectar valores atípicos\n",
    "\n",
    "df.hist(bins=20, figsize=(20, 10))\n",
    "plt.tight_layout()\n",
    "plt.show()"
   ]
  },
  {
   "cell_type": "markdown",
   "id": "fb082b73",
   "metadata": {},
   "source": [
    "#### ¿Qué podemos concluir de esta distribución?\n",
    "\n",
    "- **Consideración contextual:** Los outliers en educación a menudo representan realidades importantes (municipios con crisis educativa) que requieren atención especial, por lo cual se decide mantenerlos en el análisis.\n",
    "\n",
    "- La alta variabilidad sugiere diferencias significativas entre municipios en términos de calidad y acceso educativo, lo que es crucial para políticas públicas focalizadas."
   ]
  },
  {
   "cell_type": "code",
   "execution_count": 14,
   "id": "5b311b0a",
   "metadata": {},
   "outputs": [],
   "source": [
    "# Aquí podemos continuar con la exploración. Nos vemos chicas, gracias!!! <3 "
   ]
  }
 ],
 "metadata": {
  "kernelspec": {
   "display_name": "Python 3",
   "language": "python",
   "name": "python3"
  },
  "language_info": {
   "codemirror_mode": {
    "name": "ipython",
    "version": 3
   },
   "file_extension": ".py",
   "mimetype": "text/x-python",
   "name": "python",
   "nbconvert_exporter": "python",
   "pygments_lexer": "ipython3",
   "version": "3.13.2"
  }
 },
 "nbformat": 4,
 "nbformat_minor": 5
}
